{
 "cells": [
  {
   "cell_type": "markdown",
   "id": "d8cd7658",
   "metadata": {},
   "source": [
    "Я решила в препроцессинг добавить еще удаление цифр, поэтому надо будет заново лемматизировать все тексты и обновить соотвествующий столбец в базе данных"
   ]
  },
  {
   "cell_type": "code",
   "execution_count": 13,
   "id": "52beed6d2df56490",
   "metadata": {
    "ExecuteTime": {
     "end_time": "2023-10-02T11:52:54.243381Z",
     "start_time": "2023-10-02T11:52:53.457700Z"
    }
   },
   "outputs": [],
   "source": [
    "from pathlib import Path\n",
    "from functools import partial\n",
    "\n",
    "import pandas as pd\n",
    "\n",
    "from thesis_search.utils.database import DBHandler\n",
    "from thesis_search.utils.models import preprocessing"
   ]
  },
  {
   "cell_type": "code",
   "execution_count": 6,
   "id": "ee17168f",
   "metadata": {},
   "outputs": [
    {
     "data": {
      "text/plain": [
       "PosixPath('/Users/viktoriaknazkova/Desktop/me/study/github_repos/homeworks/info_poisk_db/hw1/theses.db')"
      ]
     },
     "execution_count": 6,
     "metadata": {},
     "output_type": "execute_result"
    }
   ],
   "source": [
    "db_path = Path('./theses.db').resolve()\n",
    "db_path"
   ]
  },
  {
   "cell_type": "code",
   "execution_count": 7,
   "id": "c2389a5f",
   "metadata": {},
   "outputs": [],
   "source": [
    "db = DBHandler(db_path)"
   ]
  },
  {
   "cell_type": "code",
   "execution_count": 8,
   "id": "d86a0e3a",
   "metadata": {},
   "outputs": [],
   "source": [
    "texts = db.get_raw_texts()"
   ]
  },
  {
   "cell_type": "code",
   "execution_count": 12,
   "id": "97802df8",
   "metadata": {},
   "outputs": [
    {
     "data": {
      "text/html": [
       "<div>\n",
       "<style scoped>\n",
       "    .dataframe tbody tr th:only-of-type {\n",
       "        vertical-align: middle;\n",
       "    }\n",
       "\n",
       "    .dataframe tbody tr th {\n",
       "        vertical-align: top;\n",
       "    }\n",
       "\n",
       "    .dataframe thead th {\n",
       "        text-align: right;\n",
       "    }\n",
       "</style>\n",
       "<table border=\"1\" class=\"dataframe\">\n",
       "  <thead>\n",
       "    <tr style=\"text-align: right;\">\n",
       "      <th></th>\n",
       "      <th>id</th>\n",
       "      <th>text</th>\n",
       "    </tr>\n",
       "  </thead>\n",
       "  <tbody>\n",
       "    <tr>\n",
       "      <th>0</th>\n",
       "      <td>206729632</td>\n",
       "      <td>Автоматическое определение коннотаций текста и...</td>\n",
       "    </tr>\n",
       "    <tr>\n",
       "      <th>1</th>\n",
       "      <td>206742498</td>\n",
       "      <td>Данное исследование было выполнено в рамках дв...</td>\n",
       "    </tr>\n",
       "    <tr>\n",
       "      <th>2</th>\n",
       "      <td>206743336</td>\n",
       "      <td>Определение тональности текстов становится все...</td>\n",
       "    </tr>\n",
       "    <tr>\n",
       "      <th>3</th>\n",
       "      <td>206743878</td>\n",
       "      <td>Данная работа посвящена исследованию устьянско...</td>\n",
       "    </tr>\n",
       "    <tr>\n",
       "      <th>4</th>\n",
       "      <td>206744244</td>\n",
       "      <td>Вопрос о латерализации речевой функции в голов...</td>\n",
       "    </tr>\n",
       "  </tbody>\n",
       "</table>\n",
       "</div>"
      ],
      "text/plain": [
       "          id                                               text\n",
       "0  206729632  Автоматическое определение коннотаций текста и...\n",
       "1  206742498  Данное исследование было выполнено в рамках дв...\n",
       "2  206743336  Определение тональности текстов становится все...\n",
       "3  206743878  Данная работа посвящена исследованию устьянско...\n",
       "4  206744244  Вопрос о латерализации речевой функции в голов..."
      ]
     },
     "execution_count": 12,
     "metadata": {},
     "output_type": "execute_result"
    }
   ],
   "source": [
    "texts_df = pd.DataFrame(texts, columns=['id', 'text'])\n",
    "texts_df.head()"
   ]
  },
  {
   "cell_type": "code",
   "execution_count": 14,
   "id": "6bca9042",
   "metadata": {},
   "outputs": [],
   "source": [
    "fast_preprocessing = partial(preprocessing, nlp=fast_nlp)"
   ]
  },
  {
   "cell_type": "code",
   "execution_count": 19,
   "id": "e37cf767",
   "metadata": {},
   "outputs": [
    {
     "data": {
      "text/html": [
       "<div>\n",
       "<style scoped>\n",
       "    .dataframe tbody tr th:only-of-type {\n",
       "        vertical-align: middle;\n",
       "    }\n",
       "\n",
       "    .dataframe tbody tr th {\n",
       "        vertical-align: top;\n",
       "    }\n",
       "\n",
       "    .dataframe thead th {\n",
       "        text-align: right;\n",
       "    }\n",
       "</style>\n",
       "<table border=\"1\" class=\"dataframe\">\n",
       "  <thead>\n",
       "    <tr style=\"text-align: right;\">\n",
       "      <th></th>\n",
       "      <th>id</th>\n",
       "      <th>text</th>\n",
       "      <th>lemmatized</th>\n",
       "    </tr>\n",
       "  </thead>\n",
       "  <tbody>\n",
       "    <tr>\n",
       "      <th>0</th>\n",
       "      <td>206729632</td>\n",
       "      <td>Автоматическое определение коннотаций текста и...</td>\n",
       "      <td>автоматический определение коннотация текст сл...</td>\n",
       "    </tr>\n",
       "    <tr>\n",
       "      <th>1</th>\n",
       "      <td>206742498</td>\n",
       "      <td>Данное исследование было выполнено в рамках дв...</td>\n",
       "      <td>исследование выполнить рамка два смежный напра...</td>\n",
       "    </tr>\n",
       "    <tr>\n",
       "      <th>2</th>\n",
       "      <td>206743336</td>\n",
       "      <td>Определение тональности текстов становится все...</td>\n",
       "      <td>определение тональность текст становиться попу...</td>\n",
       "    </tr>\n",
       "    <tr>\n",
       "      <th>3</th>\n",
       "      <td>206743878</td>\n",
       "      <td>Данная работа посвящена исследованию устьянско...</td>\n",
       "      <td>работа посвятить исследование устьянский говор...</td>\n",
       "    </tr>\n",
       "    <tr>\n",
       "      <th>4</th>\n",
       "      <td>206744244</td>\n",
       "      <td>Вопрос о латерализации речевой функции в голов...</td>\n",
       "      <td>вопрос латерализации речевой функция головной ...</td>\n",
       "    </tr>\n",
       "  </tbody>\n",
       "</table>\n",
       "</div>"
      ],
      "text/plain": [
       "          id                                               text  \\\n",
       "0  206729632  Автоматическое определение коннотаций текста и...   \n",
       "1  206742498  Данное исследование было выполнено в рамках дв...   \n",
       "2  206743336  Определение тональности текстов становится все...   \n",
       "3  206743878  Данная работа посвящена исследованию устьянско...   \n",
       "4  206744244  Вопрос о латерализации речевой функции в голов...   \n",
       "\n",
       "                                          lemmatized  \n",
       "0  автоматический определение коннотация текст сл...  \n",
       "1  исследование выполнить рамка два смежный напра...  \n",
       "2  определение тональность текст становиться попу...  \n",
       "3  работа посвятить исследование устьянский говор...  \n",
       "4  вопрос латерализации речевой функция головной ...  "
      ]
     },
     "execution_count": 19,
     "metadata": {},
     "output_type": "execute_result"
    }
   ],
   "source": [
    "texts_df['lemmatized'] = texts_df.text.apply(fast_preprocessing)\n",
    "texts_df.head()"
   ]
  },
  {
   "cell_type": "code",
   "execution_count": 21,
   "id": "d6601837",
   "metadata": {},
   "outputs": [],
   "source": [
    "db.add_lemmatization(texts_df['id'].to_list(), texts_df['lemmatized'].to_list())"
   ]
  },
  {
   "cell_type": "code",
   "execution_count": null,
   "id": "7c0c35a1",
   "metadata": {},
   "outputs": [],
   "source": []
  }
 ],
 "metadata": {
  "kernelspec": {
   "display_name": "Python 3 (ipykernel)",
   "language": "python",
   "name": "python3"
  },
  "language_info": {
   "codemirror_mode": {
    "name": "ipython",
    "version": 3
   },
   "file_extension": ".py",
   "mimetype": "text/x-python",
   "name": "python",
   "nbconvert_exporter": "python",
   "pygments_lexer": "ipython3",
   "version": "3.11.4"
  }
 },
 "nbformat": 4,
 "nbformat_minor": 5
}
