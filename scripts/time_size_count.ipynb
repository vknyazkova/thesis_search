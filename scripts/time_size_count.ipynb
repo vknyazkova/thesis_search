{
 "cells": [
  {
   "cell_type": "code",
   "execution_count": 1,
   "id": "3d717f0b",
   "metadata": {},
   "outputs": [
    {
     "name": "stdout",
     "output_type": "stream",
     "text": [
      "/Users/viktoriaknazkova/Desktop/me/study/3 курс/инф_поиск/hw2-vknyazkova\n"
     ]
    }
   ],
   "source": [
    "%cd .."
   ]
  },
  {
   "cell_type": "code",
   "execution_count": 2,
   "id": "a76ee07a",
   "metadata": {},
   "outputs": [
    {
     "name": "stdout",
     "output_type": "stream",
     "text": [
      "Collecting ru-core-news-sm@ https://github.com/explosion/spacy-models/releases/download/ru_core_news_sm-3.5.0/ru_core_news_sm-3.5.0-py3-none-any.whl (from -r requirements.txt (line 9))\n",
      "  Using cached https://github.com/explosion/spacy-models/releases/download/ru_core_news_sm-3.5.0/ru_core_news_sm-3.5.0-py3-none-any.whl (15.3 MB)\n",
      "Requirement already satisfied: spacy in /Users/viktoriaknazkova/anaconda3/lib/python3.11/site-packages (from -r requirements.txt (line 1)) (3.5.4)\n",
      "Requirement already satisfied: pandas in /Users/viktoriaknazkova/anaconda3/lib/python3.11/site-packages (from -r requirements.txt (line 2)) (1.5.3)\n",
      "Requirement already satisfied: numpy in /Users/viktoriaknazkova/anaconda3/lib/python3.11/site-packages (from -r requirements.txt (line 3)) (1.24.3)\n",
      "Requirement already satisfied: tqdm in /Users/viktoriaknazkova/anaconda3/lib/python3.11/site-packages (from -r requirements.txt (line 4)) (4.65.0)\n",
      "Requirement already satisfied: scipy in /Users/viktoriaknazkova/anaconda3/lib/python3.11/site-packages (from -r requirements.txt (line 5)) (1.10.1)\n",
      "Requirement already satisfied: progressbar2 in /Users/viktoriaknazkova/anaconda3/lib/python3.11/site-packages (from -r requirements.txt (line 6)) (4.2.0)\n",
      "Requirement already satisfied: fasttext-wheel in /Users/viktoriaknazkova/anaconda3/lib/python3.11/site-packages (from -r requirements.txt (line 7)) (0.9.2)\n",
      "Requirement already satisfied: gensim in /Users/viktoriaknazkova/anaconda3/lib/python3.11/site-packages (from -r requirements.txt (line 8)) (4.3.0)\n",
      "Requirement already satisfied: typer in /Users/viktoriaknazkova/anaconda3/lib/python3.11/site-packages (from -r requirements.txt (line 10)) (0.9.0)\n",
      "Requirement already satisfied: rich in /Users/viktoriaknazkova/anaconda3/lib/python3.11/site-packages (from -r requirements.txt (line 11)) (13.6.0)\n",
      "Requirement already satisfied: transformers in /Users/viktoriaknazkova/anaconda3/lib/python3.11/site-packages (from -r requirements.txt (line 12)) (4.29.2)\n",
      "Requirement already satisfied: torch in /Users/viktoriaknazkova/anaconda3/lib/python3.11/site-packages (from -r requirements.txt (line 13)) (2.0.1)\n",
      "Requirement already satisfied: spacy-legacy<3.1.0,>=3.0.11 in /Users/viktoriaknazkova/anaconda3/lib/python3.11/site-packages (from spacy->-r requirements.txt (line 1)) (3.0.12)\n",
      "Requirement already satisfied: spacy-loggers<2.0.0,>=1.0.0 in /Users/viktoriaknazkova/anaconda3/lib/python3.11/site-packages (from spacy->-r requirements.txt (line 1)) (1.0.5)\n",
      "Requirement already satisfied: murmurhash<1.1.0,>=0.28.0 in /Users/viktoriaknazkova/anaconda3/lib/python3.11/site-packages (from spacy->-r requirements.txt (line 1)) (1.0.10)\n",
      "Requirement already satisfied: cymem<2.1.0,>=2.0.2 in /Users/viktoriaknazkova/anaconda3/lib/python3.11/site-packages (from spacy->-r requirements.txt (line 1)) (2.0.8)\n",
      "Requirement already satisfied: preshed<3.1.0,>=3.0.2 in /Users/viktoriaknazkova/anaconda3/lib/python3.11/site-packages (from spacy->-r requirements.txt (line 1)) (3.0.9)\n",
      "Requirement already satisfied: thinc<8.2.0,>=8.1.8 in /Users/viktoriaknazkova/anaconda3/lib/python3.11/site-packages (from spacy->-r requirements.txt (line 1)) (8.1.12)\n",
      "Requirement already satisfied: wasabi<1.2.0,>=0.9.1 in /Users/viktoriaknazkova/anaconda3/lib/python3.11/site-packages (from spacy->-r requirements.txt (line 1)) (1.1.2)\n",
      "Requirement already satisfied: srsly<3.0.0,>=2.4.3 in /Users/viktoriaknazkova/anaconda3/lib/python3.11/site-packages (from spacy->-r requirements.txt (line 1)) (2.4.8)\n",
      "Requirement already satisfied: catalogue<2.1.0,>=2.0.6 in /Users/viktoriaknazkova/anaconda3/lib/python3.11/site-packages (from spacy->-r requirements.txt (line 1)) (2.0.10)\n",
      "Requirement already satisfied: pathy>=0.10.0 in /Users/viktoriaknazkova/anaconda3/lib/python3.11/site-packages (from spacy->-r requirements.txt (line 1)) (0.10.2)\n",
      "Requirement already satisfied: smart-open<7.0.0,>=5.2.1 in /Users/viktoriaknazkova/anaconda3/lib/python3.11/site-packages (from spacy->-r requirements.txt (line 1)) (5.2.1)\n",
      "Requirement already satisfied: requests<3.0.0,>=2.13.0 in /Users/viktoriaknazkova/anaconda3/lib/python3.11/site-packages (from spacy->-r requirements.txt (line 1)) (2.31.0)\n",
      "Requirement already satisfied: pydantic!=1.8,!=1.8.1,<1.11.0,>=1.7.4 in /Users/viktoriaknazkova/anaconda3/lib/python3.11/site-packages (from spacy->-r requirements.txt (line 1)) (1.10.13)\n",
      "Requirement already satisfied: jinja2 in /Users/viktoriaknazkova/anaconda3/lib/python3.11/site-packages (from spacy->-r requirements.txt (line 1)) (3.1.2)\n",
      "Requirement already satisfied: setuptools in /Users/viktoriaknazkova/anaconda3/lib/python3.11/site-packages (from spacy->-r requirements.txt (line 1)) (68.0.0)\n",
      "Requirement already satisfied: packaging>=20.0 in /Users/viktoriaknazkova/anaconda3/lib/python3.11/site-packages (from spacy->-r requirements.txt (line 1)) (23.0)\n",
      "Requirement already satisfied: langcodes<4.0.0,>=3.2.0 in /Users/viktoriaknazkova/anaconda3/lib/python3.11/site-packages (from spacy->-r requirements.txt (line 1)) (3.3.0)\n",
      "Requirement already satisfied: python-dateutil>=2.8.1 in /Users/viktoriaknazkova/anaconda3/lib/python3.11/site-packages (from pandas->-r requirements.txt (line 2)) (2.8.2)\n",
      "Requirement already satisfied: pytz>=2020.1 in /Users/viktoriaknazkova/anaconda3/lib/python3.11/site-packages (from pandas->-r requirements.txt (line 2)) (2022.7)\n",
      "Requirement already satisfied: python-utils>=3.0.0 in /Users/viktoriaknazkova/anaconda3/lib/python3.11/site-packages (from progressbar2->-r requirements.txt (line 6)) (3.8.1)\n",
      "Requirement already satisfied: pybind11>=2.2 in /Users/viktoriaknazkova/anaconda3/lib/python3.11/site-packages (from fasttext-wheel->-r requirements.txt (line 7)) (2.11.1)\n",
      "Requirement already satisfied: FuzzyTM>=0.4.0 in /Users/viktoriaknazkova/anaconda3/lib/python3.11/site-packages (from gensim->-r requirements.txt (line 8)) (2.0.5)\n",
      "Requirement already satisfied: pymorphy3>=1.0.0 in /Users/viktoriaknazkova/anaconda3/lib/python3.11/site-packages (from ru-core-news-sm@ https://github.com/explosion/spacy-models/releases/download/ru_core_news_sm-3.5.0/ru_core_news_sm-3.5.0-py3-none-any.whl->-r requirements.txt (line 9)) (1.2.1)\n",
      "Requirement already satisfied: click<9.0.0,>=7.1.1 in /Users/viktoriaknazkova/anaconda3/lib/python3.11/site-packages (from typer->-r requirements.txt (line 10)) (8.0.4)\n",
      "Requirement already satisfied: typing-extensions>=3.7.4.3 in /Users/viktoriaknazkova/anaconda3/lib/python3.11/site-packages (from typer->-r requirements.txt (line 10)) (4.7.1)\n",
      "Requirement already satisfied: markdown-it-py>=2.2.0 in /Users/viktoriaknazkova/anaconda3/lib/python3.11/site-packages (from rich->-r requirements.txt (line 11)) (2.2.0)\n",
      "Requirement already satisfied: pygments<3.0.0,>=2.13.0 in /Users/viktoriaknazkova/anaconda3/lib/python3.11/site-packages (from rich->-r requirements.txt (line 11)) (2.15.1)\n",
      "Requirement already satisfied: filelock in /Users/viktoriaknazkova/anaconda3/lib/python3.11/site-packages (from transformers->-r requirements.txt (line 12)) (3.9.0)\n",
      "Requirement already satisfied: huggingface-hub<1.0,>=0.14.1 in /Users/viktoriaknazkova/anaconda3/lib/python3.11/site-packages (from transformers->-r requirements.txt (line 12)) (0.15.1)\n",
      "Requirement already satisfied: pyyaml>=5.1 in /Users/viktoriaknazkova/anaconda3/lib/python3.11/site-packages (from transformers->-r requirements.txt (line 12)) (6.0)\n",
      "Requirement already satisfied: regex!=2019.12.17 in /Users/viktoriaknazkova/anaconda3/lib/python3.11/site-packages (from transformers->-r requirements.txt (line 12)) (2022.7.9)\n",
      "Requirement already satisfied: tokenizers!=0.11.3,<0.14,>=0.11.1 in /Users/viktoriaknazkova/anaconda3/lib/python3.11/site-packages (from transformers->-r requirements.txt (line 12)) (0.13.2)\n",
      "Requirement already satisfied: sympy in /Users/viktoriaknazkova/anaconda3/lib/python3.11/site-packages (from torch->-r requirements.txt (line 13)) (1.11.1)\n",
      "Requirement already satisfied: networkx in /Users/viktoriaknazkova/anaconda3/lib/python3.11/site-packages (from torch->-r requirements.txt (line 13)) (3.1)\n",
      "Requirement already satisfied: pyfume in /Users/viktoriaknazkova/anaconda3/lib/python3.11/site-packages (from FuzzyTM>=0.4.0->gensim->-r requirements.txt (line 8)) (0.2.25)\n",
      "Requirement already satisfied: fsspec in /Users/viktoriaknazkova/anaconda3/lib/python3.11/site-packages (from huggingface-hub<1.0,>=0.14.1->transformers->-r requirements.txt (line 12)) (2023.4.0)\n",
      "Requirement already satisfied: mdurl~=0.1 in /Users/viktoriaknazkova/anaconda3/lib/python3.11/site-packages (from markdown-it-py>=2.2.0->rich->-r requirements.txt (line 11)) (0.1.0)\n"
     ]
    },
    {
     "name": "stdout",
     "output_type": "stream",
     "text": [
      "Requirement already satisfied: dawg-python>=0.7.1 in /Users/viktoriaknazkova/anaconda3/lib/python3.11/site-packages (from pymorphy3>=1.0.0->ru-core-news-sm@ https://github.com/explosion/spacy-models/releases/download/ru_core_news_sm-3.5.0/ru_core_news_sm-3.5.0-py3-none-any.whl->-r requirements.txt (line 9)) (0.7.2)\n",
      "Requirement already satisfied: docopt-ng>=0.6 in /Users/viktoriaknazkova/anaconda3/lib/python3.11/site-packages (from pymorphy3>=1.0.0->ru-core-news-sm@ https://github.com/explosion/spacy-models/releases/download/ru_core_news_sm-3.5.0/ru_core_news_sm-3.5.0-py3-none-any.whl->-r requirements.txt (line 9)) (0.9.0)\n",
      "Requirement already satisfied: pymorphy3-dicts-ru in /Users/viktoriaknazkova/anaconda3/lib/python3.11/site-packages (from pymorphy3>=1.0.0->ru-core-news-sm@ https://github.com/explosion/spacy-models/releases/download/ru_core_news_sm-3.5.0/ru_core_news_sm-3.5.0-py3-none-any.whl->-r requirements.txt (line 9)) (2.4.417150.4580142)\n",
      "Requirement already satisfied: six>=1.5 in /Users/viktoriaknazkova/anaconda3/lib/python3.11/site-packages (from python-dateutil>=2.8.1->pandas->-r requirements.txt (line 2)) (1.16.0)\n",
      "Requirement already satisfied: charset-normalizer<4,>=2 in /Users/viktoriaknazkova/anaconda3/lib/python3.11/site-packages (from requests<3.0.0,>=2.13.0->spacy->-r requirements.txt (line 1)) (2.0.4)\n",
      "Requirement already satisfied: idna<4,>=2.5 in /Users/viktoriaknazkova/anaconda3/lib/python3.11/site-packages (from requests<3.0.0,>=2.13.0->spacy->-r requirements.txt (line 1)) (3.4)\n",
      "Requirement already satisfied: urllib3<3,>=1.21.1 in /Users/viktoriaknazkova/anaconda3/lib/python3.11/site-packages (from requests<3.0.0,>=2.13.0->spacy->-r requirements.txt (line 1)) (1.26.16)\n",
      "Requirement already satisfied: certifi>=2017.4.17 in /Users/viktoriaknazkova/anaconda3/lib/python3.11/site-packages (from requests<3.0.0,>=2.13.0->spacy->-r requirements.txt (line 1)) (2023.7.22)\n",
      "Requirement already satisfied: blis<0.8.0,>=0.7.8 in /Users/viktoriaknazkova/anaconda3/lib/python3.11/site-packages (from thinc<8.2.0,>=8.1.8->spacy->-r requirements.txt (line 1)) (0.7.11)\n",
      "Requirement already satisfied: confection<1.0.0,>=0.0.1 in /Users/viktoriaknazkova/anaconda3/lib/python3.11/site-packages (from thinc<8.2.0,>=8.1.8->spacy->-r requirements.txt (line 1)) (0.1.3)\n",
      "Requirement already satisfied: MarkupSafe>=2.0 in /Users/viktoriaknazkova/anaconda3/lib/python3.11/site-packages (from jinja2->spacy->-r requirements.txt (line 1)) (2.1.1)\n",
      "Requirement already satisfied: mpmath>=0.19 in /Users/viktoriaknazkova/anaconda3/lib/python3.11/site-packages (from sympy->torch->-r requirements.txt (line 13)) (1.3.0)\n",
      "Requirement already satisfied: simpful in /Users/viktoriaknazkova/anaconda3/lib/python3.11/site-packages (from pyfume->FuzzyTM>=0.4.0->gensim->-r requirements.txt (line 8)) (2.11.0)\n",
      "Requirement already satisfied: fst-pso in /Users/viktoriaknazkova/anaconda3/lib/python3.11/site-packages (from pyfume->FuzzyTM>=0.4.0->gensim->-r requirements.txt (line 8)) (1.8.1)\n",
      "Requirement already satisfied: miniful in /Users/viktoriaknazkova/anaconda3/lib/python3.11/site-packages (from fst-pso->pyfume->FuzzyTM>=0.4.0->gensim->-r requirements.txt (line 8)) (0.0.6)\n"
     ]
    }
   ],
   "source": [
    "!pip install -r requirements.txt"
   ]
  },
  {
   "cell_type": "code",
   "execution_count": 3,
   "id": "8947b030",
   "metadata": {},
   "outputs": [],
   "source": [
    "import time\n",
    "import tracemalloc\n",
    "import warnings\n",
    "from collections import defaultdict\n",
    "\n",
    "warnings.filterwarnings(\"ignore\")"
   ]
  },
  {
   "cell_type": "code",
   "execution_count": 4,
   "id": "3c44249d",
   "metadata": {},
   "outputs": [],
   "source": [
    "from thesis_search.cli.main import search\n",
    "from thesis_search.search import search_theses"
   ]
  },
  {
   "cell_type": "code",
   "execution_count": 5,
   "id": "e1c2be1e",
   "metadata": {},
   "outputs": [],
   "source": [
    "def time_decorator(f):\n",
    "    def wrapper(*args, **kwds):\n",
    "        start = time.time()\n",
    "        f(*args, **kwds)\n",
    "        exec_time = time.time() - start\n",
    "        return exec_time\n",
    "    return wrapper"
   ]
  },
  {
   "cell_type": "code",
   "execution_count": 6,
   "id": "9c0d25f4",
   "metadata": {},
   "outputs": [],
   "source": [
    "# source: https://www.geeksforgeeks.org/monitoring-memory-usage-of-a-running-python-program/\n",
    "def memory_decorator(f):\n",
    "    def wrapper(*args, **kwds):\n",
    "        tracemalloc.start()\n",
    "        f(*args, **kwds)\n",
    "        mem = tracemalloc.get_traced_memory()\n",
    "        tracemalloc.stop()\n",
    "        return mem[1]\n",
    "    return wrapper"
   ]
  },
  {
   "cell_type": "code",
   "execution_count": 7,
   "id": "e7414750",
   "metadata": {},
   "outputs": [],
   "source": [
    "exec_time = defaultdict(dict)\n",
    "memory_usage = defaultdict(dict)\n",
    "methods = ['bm25', 'w2v', 'ft', 'bert']"
   ]
  },
  {
   "cell_type": "code",
   "execution_count": 8,
   "id": "15080762",
   "metadata": {},
   "outputs": [],
   "source": [
    "query = 'векторное представление многозначных слов'"
   ]
  },
  {
   "cell_type": "markdown",
   "id": "903983ff",
   "metadata": {},
   "source": [
    "### Поиск с загрузкой модели"
   ]
  },
  {
   "cell_type": "code",
   "execution_count": 9,
   "id": "83957d8f",
   "metadata": {},
   "outputs": [],
   "source": [
    "search_time = time_decorator(search)\n",
    "search_mem = memory_decorator(search)"
   ]
  },
  {
   "cell_type": "code",
   "execution_count": 10,
   "id": "1842edce",
   "metadata": {
    "scrolled": true
   },
   "outputs": [],
   "source": [
    "%%capture\n",
    "for method in methods:\n",
    "    exec_time['full'][method] = search_time(query, method, 1)\n",
    "    memory_usage['full'][method] = search_mem(query, method, 1)"
   ]
  },
  {
   "cell_type": "code",
   "execution_count": 11,
   "id": "9b8d6138",
   "metadata": {},
   "outputs": [
    {
     "data": {
      "text/plain": [
       "(defaultdict(dict,\n",
       "             {'full': {'bm25': 0.213637113571167,\n",
       "               'w2v': 0.9831628799438477,\n",
       "               'ft': 9.398283004760742,\n",
       "               'bert': 6.3626110553741455}}),\n",
       " defaultdict(dict,\n",
       "             {'full': {'bm25': 629947561,\n",
       "               'w2v': 5853920,\n",
       "               'ft': 5851351,\n",
       "               'bert': 19752993}}))"
      ]
     },
     "execution_count": 11,
     "metadata": {},
     "output_type": "execute_result"
    }
   ],
   "source": [
    "exec_time, memory_usage"
   ]
  },
  {
   "cell_type": "markdown",
   "id": "45f034ef",
   "metadata": {},
   "source": [
    "### Только поиск"
   ]
  },
  {
   "cell_type": "code",
   "execution_count": 12,
   "id": "40e367a4",
   "metadata": {},
   "outputs": [],
   "source": [
    "from thesis_search import init_defaults"
   ]
  },
  {
   "cell_type": "code",
   "execution_count": 13,
   "id": "89f02fe5",
   "metadata": {},
   "outputs": [],
   "source": [
    "db, fast_nlp, corpus, default_params, search_engines = init_defaults()"
   ]
  },
  {
   "cell_type": "code",
   "execution_count": 14,
   "id": "6d7ca91f",
   "metadata": {},
   "outputs": [],
   "source": [
    "search_engines_initialized = {}\n",
    "for idx_type in methods:\n",
    "    search_engine = search_engines[idx_type](corpus=corpus[idx_type], **default_params[idx_type])\n",
    "    search_engines_initialized[idx_type] = search_engine"
   ]
  },
  {
   "cell_type": "code",
   "execution_count": 15,
   "id": "bcdabfa9",
   "metadata": {},
   "outputs": [],
   "source": [
    "search_only_time = time_decorator(search_theses)\n",
    "search_only_mem = memory_decorator(search_theses)"
   ]
  },
  {
   "cell_type": "code",
   "execution_count": 16,
   "id": "af4a12a8",
   "metadata": {},
   "outputs": [],
   "source": [
    "%%capture\n",
    "for method in methods:\n",
    "    exec_time['search_only'][method] = search_only_time(query, fast_nlp, search_engines_initialized[method], db, 1)\n",
    "    memory_usage['search_only'][method] = search_only_mem(query, fast_nlp, search_engines_initialized[method], db, 1)"
   ]
  },
  {
   "cell_type": "code",
   "execution_count": 17,
   "id": "23e62b6e",
   "metadata": {},
   "outputs": [
    {
     "data": {
      "text/plain": [
       "(defaultdict(dict,\n",
       "             {'full': {'bm25': 0.213637113571167,\n",
       "               'w2v': 0.9831628799438477,\n",
       "               'ft': 9.398283004760742,\n",
       "               'bert': 6.3626110553741455},\n",
       "              'search_only': {'bm25': 0.08329892158508301,\n",
       "               'w2v': 0.03309798240661621,\n",
       "               'ft': 0.023878097534179688,\n",
       "               'bert': 0.523726224899292}}),\n",
       " defaultdict(dict,\n",
       "             {'full': {'bm25': 629947561,\n",
       "               'w2v': 5853920,\n",
       "               'ft': 5851351,\n",
       "               'bert': 19752993},\n",
       "              'search_only': {'bm25': 191387,\n",
       "               'w2v': 2973157,\n",
       "               'ft': 2970711,\n",
       "               'bert': 9921676}}))"
      ]
     },
     "execution_count": 17,
     "metadata": {},
     "output_type": "execute_result"
    }
   ],
   "source": [
    "exec_time, memory_usage"
   ]
  },
  {
   "cell_type": "code",
   "execution_count": 19,
   "id": "be860103",
   "metadata": {},
   "outputs": [],
   "source": [
    "from pathlib import Path\n",
    "import pandas as pd\n",
    "\n",
    "from thesis_search.config import DATA_FOLDER_PATH"
   ]
  },
  {
   "cell_type": "code",
   "execution_count": 20,
   "id": "d2cba187",
   "metadata": {},
   "outputs": [],
   "source": [
    "time_info_path = Path(DATA_FOLDER_PATH, 'time_statistics.csv')\n",
    "memory_info_path = Path(DATA_FOLDER_PATH, 'memory_statistics.csv')"
   ]
  },
  {
   "cell_type": "code",
   "execution_count": 22,
   "id": "72d85a13",
   "metadata": {},
   "outputs": [],
   "source": [
    "pd.DataFrame.from_dict(exec_time).to_csv(time_info_path)\n",
    "pd.DataFrame.from_dict(memory_usage).to_csv(memory_info_path)"
   ]
  }
 ],
 "metadata": {
  "kernelspec": {
   "display_name": "Python 3 (ipykernel)",
   "language": "python",
   "name": "python3"
  },
  "language_info": {
   "codemirror_mode": {
    "name": "ipython",
    "version": 3
   },
   "file_extension": ".py",
   "mimetype": "text/x-python",
   "name": "python",
   "nbconvert_exporter": "python",
   "pygments_lexer": "ipython3",
   "version": "3.11.4"
  }
 },
 "nbformat": 4,
 "nbformat_minor": 5
}
