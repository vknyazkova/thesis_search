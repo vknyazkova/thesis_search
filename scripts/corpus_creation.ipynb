{
 "cells": [
  {
   "cell_type": "markdown",
   "id": "c64a196b",
   "metadata": {},
   "source": [
    "## WebScrapping"
   ]
  },
  {
   "cell_type": "code",
   "execution_count": 1,
   "id": "02c15a4e",
   "metadata": {
    "ExecuteTime": {
     "end_time": "2023-09-27T18:03:02.076915Z",
     "start_time": "2023-09-27T18:03:02.065191Z"
    }
   },
   "outputs": [],
   "source": [
    "import sys\n",
    "from pathlib import Path\n",
    "\n",
    "from tqdm import tqdm"
   ]
  },
  {
   "cell_type": "code",
   "execution_count": 2,
   "id": "9918a2a7",
   "metadata": {},
   "outputs": [],
   "source": [
    "sys.path.append(str(Path('..').resolve()))"
   ]
  },
  {
   "cell_type": "code",
   "execution_count": 3,
   "id": "581b558c",
   "metadata": {},
   "outputs": [],
   "source": [
    "from thesis_search.utils.crawler import HSEVKRScrapper"
   ]
  },
  {
   "cell_type": "code",
   "execution_count": 4,
   "id": "6d5e89ec",
   "metadata": {},
   "outputs": [],
   "source": [
    "thesis_pages = [\n",
    "    'https://www.hse.ru/ba/ling/students/diplomas/',  # фикл\n",
    "    'https://www.hse.ru/ba/se/students/diplomas/',  # пи\n",
    "    'https://www.hse.ru/en/ba/ami/students/diplomas/',  # пми\n",
    "]"
   ]
  },
  {
   "cell_type": "code",
   "execution_count": 5,
   "id": "9eca7f4c",
   "metadata": {},
   "outputs": [],
   "source": [
    "scrapper = HSEVKRScrapper()"
   ]
  },
  {
   "cell_type": "code",
   "execution_count": 6,
   "id": "9d81fbe8",
   "metadata": {},
   "outputs": [
    {
     "name": "stdout",
     "output_type": "stream",
     "text": [
      "CPU times: user 6.63 s, sys: 1.59 s, total: 8.22 s\n",
      "Wall time: 1min 16s\n"
     ]
    },
    {
     "data": {
      "text/plain": [
       "1500"
      ]
     },
     "execution_count": 6,
     "metadata": {},
     "output_type": "execute_result"
    }
   ],
   "source": [
    "%%time\n",
    "all_results = []\n",
    "for page in thesis_pages:\n",
    "    result = scrapper.crawl(page, pagelimit=50, sleep=0)\n",
    "    all_results.extend(result)\n",
    "len(all_results)"
   ]
  },
  {
   "cell_type": "code",
   "execution_count": 7,
   "id": "21d4be2d",
   "metadata": {},
   "outputs": [
    {
     "data": {
      "text/plain": [
       "Thesis(thesis_id=474831623, year=2021, title='Критерии модулярности и суммарной средней связи для выявления сообществ: экспериментальное сравнение', student='Куропаткина Лариса Дмитриевна', supervisors=['Миркин Борис Григорьевич'], learn_program='Прикладная математика и информатика', abstract='Иерархическая кластеризация широко используется в анализе данных. Несмотря на некоторые недостатки, большое достоинство этого метода заключается в построении иерархии кластеров. Чтобы использовать иерархическую кластеризацию надо определить критерий связи, согласно которому кластеры будут объединяться или делиться. В этой работе проведено экспериментальное сравнение нескольких таких критериев: полусредняя связь, модулярность, суммарная связь за вычетом среднего.', text_lemmatized=None, file=None)"
      ]
     },
     "execution_count": 7,
     "metadata": {},
     "output_type": "execute_result"
    }
   ],
   "source": [
    "all_results[-1]"
   ]
  },
  {
   "cell_type": "markdown",
   "id": "1b00dd29",
   "metadata": {},
   "source": [
    "## Добавление в базу данных"
   ]
  },
  {
   "cell_type": "code",
   "execution_count": 8,
   "id": "16e85a8a",
   "metadata": {},
   "outputs": [],
   "source": [
    "from thesis_search.utils.database import DBHandler\n",
    "from thesis_search.utils.models import filter_texts"
   ]
  },
  {
   "cell_type": "code",
   "execution_count": 9,
   "id": "fadfe476",
   "metadata": {
    "ExecuteTime": {
     "end_time": "2023-09-27T18:03:30.683016Z",
     "start_time": "2023-09-27T18:03:30.676108Z"
    }
   },
   "outputs": [
    {
     "data": {
      "text/plain": [
       "PosixPath('/Users/viktoriaknazkova/Desktop/me/study/4 курс/инф_поиск/project-vknyazkova/data/theses.db')"
      ]
     },
     "execution_count": 9,
     "metadata": {},
     "output_type": "execute_result"
    }
   ],
   "source": [
    "db_path = Path('../data/theses.db').resolve()\n",
    "db_path"
   ]
  },
  {
   "cell_type": "code",
   "execution_count": 10,
   "id": "c7352f57",
   "metadata": {},
   "outputs": [],
   "source": [
    "db = DBHandler(db_path)"
   ]
  },
  {
   "cell_type": "code",
   "execution_count": 11,
   "id": "3816425e",
   "metadata": {},
   "outputs": [],
   "source": [
    "all_results = filter_texts(all_results)"
   ]
  },
  {
   "cell_type": "code",
   "execution_count": 12,
   "id": "142d9579",
   "metadata": {},
   "outputs": [
    {
     "name": "stderr",
     "output_type": "stream",
     "text": [
      "100%|██████████████████████████████████████| 1484/1484 [00:01<00:00, 920.24it/s]\n"
     ]
    }
   ],
   "source": [
    "for result in tqdm(all_results):\n",
    "    db.add_thesis_info(result)"
   ]
  },
  {
   "cell_type": "markdown",
   "id": "752e32a4",
   "metadata": {},
   "source": [
    "## Лемматизация"
   ]
  },
  {
   "cell_type": "code",
   "execution_count": 13,
   "id": "2d155ddc",
   "metadata": {},
   "outputs": [
    {
     "name": "stdout",
     "output_type": "stream",
     "text": [
      "Requirement already satisfied: spacy in /Users/viktoriaknazkova/anaconda3/lib/python3.11/site-packages (3.5.4)\n",
      "Requirement already satisfied: spacy-legacy<3.1.0,>=3.0.11 in /Users/viktoriaknazkova/anaconda3/lib/python3.11/site-packages (from spacy) (3.0.12)\n",
      "Requirement already satisfied: spacy-loggers<2.0.0,>=1.0.0 in /Users/viktoriaknazkova/anaconda3/lib/python3.11/site-packages (from spacy) (1.0.5)\n",
      "Requirement already satisfied: murmurhash<1.1.0,>=0.28.0 in /Users/viktoriaknazkova/anaconda3/lib/python3.11/site-packages (from spacy) (1.0.10)\n",
      "Requirement already satisfied: cymem<2.1.0,>=2.0.2 in /Users/viktoriaknazkova/anaconda3/lib/python3.11/site-packages (from spacy) (2.0.8)\n",
      "Requirement already satisfied: preshed<3.1.0,>=3.0.2 in /Users/viktoriaknazkova/anaconda3/lib/python3.11/site-packages (from spacy) (3.0.9)\n",
      "Requirement already satisfied: thinc<8.2.0,>=8.1.8 in /Users/viktoriaknazkova/anaconda3/lib/python3.11/site-packages (from spacy) (8.1.12)\n",
      "Requirement already satisfied: wasabi<1.2.0,>=0.9.1 in /Users/viktoriaknazkova/anaconda3/lib/python3.11/site-packages (from spacy) (1.1.2)\n",
      "Requirement already satisfied: srsly<3.0.0,>=2.4.3 in /Users/viktoriaknazkova/anaconda3/lib/python3.11/site-packages (from spacy) (2.4.8)\n",
      "Requirement already satisfied: catalogue<2.1.0,>=2.0.6 in /Users/viktoriaknazkova/anaconda3/lib/python3.11/site-packages (from spacy) (2.0.10)\n",
      "Requirement already satisfied: typer<0.10.0,>=0.3.0 in /Users/viktoriaknazkova/anaconda3/lib/python3.11/site-packages (from spacy) (0.9.0)\n",
      "Requirement already satisfied: pathy>=0.10.0 in /Users/viktoriaknazkova/anaconda3/lib/python3.11/site-packages (from spacy) (0.10.2)\n",
      "Requirement already satisfied: smart-open<7.0.0,>=5.2.1 in /Users/viktoriaknazkova/anaconda3/lib/python3.11/site-packages (from spacy) (5.2.1)\n",
      "Requirement already satisfied: tqdm<5.0.0,>=4.38.0 in /Users/viktoriaknazkova/anaconda3/lib/python3.11/site-packages (from spacy) (4.65.0)\n",
      "Requirement already satisfied: numpy>=1.15.0 in /Users/viktoriaknazkova/anaconda3/lib/python3.11/site-packages (from spacy) (1.24.3)\n",
      "Requirement already satisfied: requests<3.0.0,>=2.13.0 in /Users/viktoriaknazkova/anaconda3/lib/python3.11/site-packages (from spacy) (2.31.0)\n",
      "Requirement already satisfied: pydantic!=1.8,!=1.8.1,<1.11.0,>=1.7.4 in /Users/viktoriaknazkova/anaconda3/lib/python3.11/site-packages (from spacy) (1.10.13)\n",
      "Requirement already satisfied: jinja2 in /Users/viktoriaknazkova/anaconda3/lib/python3.11/site-packages (from spacy) (3.1.2)\n",
      "Requirement already satisfied: setuptools in /Users/viktoriaknazkova/anaconda3/lib/python3.11/site-packages (from spacy) (68.0.0)\n",
      "Requirement already satisfied: packaging>=20.0 in /Users/viktoriaknazkova/anaconda3/lib/python3.11/site-packages (from spacy) (23.0)\n",
      "Requirement already satisfied: langcodes<4.0.0,>=3.2.0 in /Users/viktoriaknazkova/anaconda3/lib/python3.11/site-packages (from spacy) (3.3.0)\n",
      "Requirement already satisfied: typing-extensions>=4.2.0 in /Users/viktoriaknazkova/anaconda3/lib/python3.11/site-packages (from pydantic!=1.8,!=1.8.1,<1.11.0,>=1.7.4->spacy) (4.7.1)\n",
      "Requirement already satisfied: charset-normalizer<4,>=2 in /Users/viktoriaknazkova/anaconda3/lib/python3.11/site-packages (from requests<3.0.0,>=2.13.0->spacy) (2.0.4)\n",
      "Requirement already satisfied: idna<4,>=2.5 in /Users/viktoriaknazkova/anaconda3/lib/python3.11/site-packages (from requests<3.0.0,>=2.13.0->spacy) (3.4)\n",
      "Requirement already satisfied: urllib3<3,>=1.21.1 in /Users/viktoriaknazkova/anaconda3/lib/python3.11/site-packages (from requests<3.0.0,>=2.13.0->spacy) (1.26.16)\n",
      "Requirement already satisfied: certifi>=2017.4.17 in /Users/viktoriaknazkova/anaconda3/lib/python3.11/site-packages (from requests<3.0.0,>=2.13.0->spacy) (2023.7.22)\n",
      "Requirement already satisfied: blis<0.8.0,>=0.7.8 in /Users/viktoriaknazkova/anaconda3/lib/python3.11/site-packages (from thinc<8.2.0,>=8.1.8->spacy) (0.7.11)\n",
      "Requirement already satisfied: confection<1.0.0,>=0.0.1 in /Users/viktoriaknazkova/anaconda3/lib/python3.11/site-packages (from thinc<8.2.0,>=8.1.8->spacy) (0.1.3)\n",
      "Requirement already satisfied: click<9.0.0,>=7.1.1 in /Users/viktoriaknazkova/anaconda3/lib/python3.11/site-packages (from typer<0.10.0,>=0.3.0->spacy) (8.0.4)\n",
      "Requirement already satisfied: MarkupSafe>=2.0 in /Users/viktoriaknazkova/anaconda3/lib/python3.11/site-packages (from jinja2->spacy) (2.1.1)\n",
      "Collecting ru-core-news-sm==3.5.0\n",
      "  Downloading https://github.com/explosion/spacy-models/releases/download/ru_core_news_sm-3.5.0/ru_core_news_sm-3.5.0-py3-none-any.whl (15.3 MB)\n",
      "\u001b[2K     \u001b[90m━━━━━━━━━━━━━━━━━━━━━━━━━━━━━━━━━━━━━━━━\u001b[0m \u001b[32m15.3/15.3 MB\u001b[0m \u001b[31m1.3 MB/s\u001b[0m eta \u001b[36m0:00:00\u001b[0m00:01\u001b[0m00:01\u001b[0m\n",
      "\u001b[?25hRequirement already satisfied: spacy<3.6.0,>=3.5.0 in /Users/viktoriaknazkova/anaconda3/lib/python3.11/site-packages (from ru-core-news-sm==3.5.0) (3.5.4)\n",
      "Requirement already satisfied: pymorphy3>=1.0.0 in /Users/viktoriaknazkova/anaconda3/lib/python3.11/site-packages (from ru-core-news-sm==3.5.0) (1.2.1)\n",
      "Requirement already satisfied: dawg-python>=0.7.1 in /Users/viktoriaknazkova/anaconda3/lib/python3.11/site-packages (from pymorphy3>=1.0.0->ru-core-news-sm==3.5.0) (0.7.2)\n",
      "Requirement already satisfied: docopt-ng>=0.6 in /Users/viktoriaknazkova/anaconda3/lib/python3.11/site-packages (from pymorphy3>=1.0.0->ru-core-news-sm==3.5.0) (0.9.0)\n",
      "Requirement already satisfied: pymorphy3-dicts-ru in /Users/viktoriaknazkova/anaconda3/lib/python3.11/site-packages (from pymorphy3>=1.0.0->ru-core-news-sm==3.5.0) (2.4.417150.4580142)\n",
      "Requirement already satisfied: spacy-legacy<3.1.0,>=3.0.11 in /Users/viktoriaknazkova/anaconda3/lib/python3.11/site-packages (from spacy<3.6.0,>=3.5.0->ru-core-news-sm==3.5.0) (3.0.12)\n",
      "Requirement already satisfied: spacy-loggers<2.0.0,>=1.0.0 in /Users/viktoriaknazkova/anaconda3/lib/python3.11/site-packages (from spacy<3.6.0,>=3.5.0->ru-core-news-sm==3.5.0) (1.0.5)\n",
      "Requirement already satisfied: murmurhash<1.1.0,>=0.28.0 in /Users/viktoriaknazkova/anaconda3/lib/python3.11/site-packages (from spacy<3.6.0,>=3.5.0->ru-core-news-sm==3.5.0) (1.0.10)\n",
      "Requirement already satisfied: cymem<2.1.0,>=2.0.2 in /Users/viktoriaknazkova/anaconda3/lib/python3.11/site-packages (from spacy<3.6.0,>=3.5.0->ru-core-news-sm==3.5.0) (2.0.8)\n",
      "Requirement already satisfied: preshed<3.1.0,>=3.0.2 in /Users/viktoriaknazkova/anaconda3/lib/python3.11/site-packages (from spacy<3.6.0,>=3.5.0->ru-core-news-sm==3.5.0) (3.0.9)\n",
      "Requirement already satisfied: thinc<8.2.0,>=8.1.8 in /Users/viktoriaknazkova/anaconda3/lib/python3.11/site-packages (from spacy<3.6.0,>=3.5.0->ru-core-news-sm==3.5.0) (8.1.12)\n",
      "Requirement already satisfied: wasabi<1.2.0,>=0.9.1 in /Users/viktoriaknazkova/anaconda3/lib/python3.11/site-packages (from spacy<3.6.0,>=3.5.0->ru-core-news-sm==3.5.0) (1.1.2)\n",
      "Requirement already satisfied: srsly<3.0.0,>=2.4.3 in /Users/viktoriaknazkova/anaconda3/lib/python3.11/site-packages (from spacy<3.6.0,>=3.5.0->ru-core-news-sm==3.5.0) (2.4.8)\n",
      "Requirement already satisfied: catalogue<2.1.0,>=2.0.6 in /Users/viktoriaknazkova/anaconda3/lib/python3.11/site-packages (from spacy<3.6.0,>=3.5.0->ru-core-news-sm==3.5.0) (2.0.10)\n",
      "Requirement already satisfied: typer<0.10.0,>=0.3.0 in /Users/viktoriaknazkova/anaconda3/lib/python3.11/site-packages (from spacy<3.6.0,>=3.5.0->ru-core-news-sm==3.5.0) (0.9.0)\n",
      "Requirement already satisfied: pathy>=0.10.0 in /Users/viktoriaknazkova/anaconda3/lib/python3.11/site-packages (from spacy<3.6.0,>=3.5.0->ru-core-news-sm==3.5.0) (0.10.2)\n",
      "Requirement already satisfied: smart-open<7.0.0,>=5.2.1 in /Users/viktoriaknazkova/anaconda3/lib/python3.11/site-packages (from spacy<3.6.0,>=3.5.0->ru-core-news-sm==3.5.0) (5.2.1)\n",
      "Requirement already satisfied: tqdm<5.0.0,>=4.38.0 in /Users/viktoriaknazkova/anaconda3/lib/python3.11/site-packages (from spacy<3.6.0,>=3.5.0->ru-core-news-sm==3.5.0) (4.65.0)\n",
      "Requirement already satisfied: numpy>=1.15.0 in /Users/viktoriaknazkova/anaconda3/lib/python3.11/site-packages (from spacy<3.6.0,>=3.5.0->ru-core-news-sm==3.5.0) (1.24.3)\n",
      "Requirement already satisfied: requests<3.0.0,>=2.13.0 in /Users/viktoriaknazkova/anaconda3/lib/python3.11/site-packages (from spacy<3.6.0,>=3.5.0->ru-core-news-sm==3.5.0) (2.31.0)\n",
      "Requirement already satisfied: pydantic!=1.8,!=1.8.1,<1.11.0,>=1.7.4 in /Users/viktoriaknazkova/anaconda3/lib/python3.11/site-packages (from spacy<3.6.0,>=3.5.0->ru-core-news-sm==3.5.0) (1.10.13)\n",
      "Requirement already satisfied: jinja2 in /Users/viktoriaknazkova/anaconda3/lib/python3.11/site-packages (from spacy<3.6.0,>=3.5.0->ru-core-news-sm==3.5.0) (3.1.2)\n",
      "Requirement already satisfied: setuptools in /Users/viktoriaknazkova/anaconda3/lib/python3.11/site-packages (from spacy<3.6.0,>=3.5.0->ru-core-news-sm==3.5.0) (68.0.0)\n",
      "Requirement already satisfied: packaging>=20.0 in /Users/viktoriaknazkova/anaconda3/lib/python3.11/site-packages (from spacy<3.6.0,>=3.5.0->ru-core-news-sm==3.5.0) (23.0)\n",
      "Requirement already satisfied: langcodes<4.0.0,>=3.2.0 in /Users/viktoriaknazkova/anaconda3/lib/python3.11/site-packages (from spacy<3.6.0,>=3.5.0->ru-core-news-sm==3.5.0) (3.3.0)\n",
      "Requirement already satisfied: typing-extensions>=4.2.0 in /Users/viktoriaknazkova/anaconda3/lib/python3.11/site-packages (from pydantic!=1.8,!=1.8.1,<1.11.0,>=1.7.4->spacy<3.6.0,>=3.5.0->ru-core-news-sm==3.5.0) (4.7.1)\n",
      "Requirement already satisfied: charset-normalizer<4,>=2 in /Users/viktoriaknazkova/anaconda3/lib/python3.11/site-packages (from requests<3.0.0,>=2.13.0->spacy<3.6.0,>=3.5.0->ru-core-news-sm==3.5.0) (2.0.4)\n"
     ]
    },
    {
     "name": "stdout",
     "output_type": "stream",
     "text": [
      "Requirement already satisfied: idna<4,>=2.5 in /Users/viktoriaknazkova/anaconda3/lib/python3.11/site-packages (from requests<3.0.0,>=2.13.0->spacy<3.6.0,>=3.5.0->ru-core-news-sm==3.5.0) (3.4)\n",
      "Requirement already satisfied: urllib3<3,>=1.21.1 in /Users/viktoriaknazkova/anaconda3/lib/python3.11/site-packages (from requests<3.0.0,>=2.13.0->spacy<3.6.0,>=3.5.0->ru-core-news-sm==3.5.0) (1.26.16)\n",
      "Requirement already satisfied: certifi>=2017.4.17 in /Users/viktoriaknazkova/anaconda3/lib/python3.11/site-packages (from requests<3.0.0,>=2.13.0->spacy<3.6.0,>=3.5.0->ru-core-news-sm==3.5.0) (2023.7.22)\n",
      "Requirement already satisfied: blis<0.8.0,>=0.7.8 in /Users/viktoriaknazkova/anaconda3/lib/python3.11/site-packages (from thinc<8.2.0,>=8.1.8->spacy<3.6.0,>=3.5.0->ru-core-news-sm==3.5.0) (0.7.11)\n",
      "Requirement already satisfied: confection<1.0.0,>=0.0.1 in /Users/viktoriaknazkova/anaconda3/lib/python3.11/site-packages (from thinc<8.2.0,>=8.1.8->spacy<3.6.0,>=3.5.0->ru-core-news-sm==3.5.0) (0.1.3)\n",
      "Requirement already satisfied: click<9.0.0,>=7.1.1 in /Users/viktoriaknazkova/anaconda3/lib/python3.11/site-packages (from typer<0.10.0,>=0.3.0->spacy<3.6.0,>=3.5.0->ru-core-news-sm==3.5.0) (8.0.4)\n",
      "Requirement already satisfied: MarkupSafe>=2.0 in /Users/viktoriaknazkova/anaconda3/lib/python3.11/site-packages (from jinja2->spacy<3.6.0,>=3.5.0->ru-core-news-sm==3.5.0) (2.1.1)\n",
      "\u001b[38;5;2m✔ Download and installation successful\u001b[0m\n",
      "You can now load the package via spacy.load('ru_core_news_sm')\n"
     ]
    }
   ],
   "source": [
    "!pip install spacy\n",
    "!python -m spacy download ru_core_news_sm"
   ]
  },
  {
   "cell_type": "code",
   "execution_count": 14,
   "id": "3261a46e",
   "metadata": {},
   "outputs": [],
   "source": [
    "from functools import partial\n",
    "\n",
    "import pandas as pd\n",
    "import spacy\n",
    "\n",
    "from thesis_search.utils.models import preprocessing"
   ]
  },
  {
   "cell_type": "code",
   "execution_count": 15,
   "id": "3a9727c2",
   "metadata": {},
   "outputs": [],
   "source": [
    "fast_nlp = spacy.load(\"ru_core_news_sm\", exclude=[\"ner\"])"
   ]
  },
  {
   "cell_type": "code",
   "execution_count": 16,
   "id": "11fb6fe4",
   "metadata": {},
   "outputs": [],
   "source": [
    "corpus = db.get_raw_texts()\n",
    "df = pd.DataFrame(corpus, columns=['id', 'text'])"
   ]
  },
  {
   "cell_type": "code",
   "execution_count": 17,
   "id": "b51186ae",
   "metadata": {},
   "outputs": [],
   "source": [
    "fast_preprocessing = partial(preprocessing, nlp=fast_nlp)"
   ]
  },
  {
   "cell_type": "code",
   "execution_count": 18,
   "id": "ecf2b97d",
   "metadata": {},
   "outputs": [
    {
     "name": "stdout",
     "output_type": "stream",
     "text": [
      "CPU times: user 43.8 s, sys: 243 ms, total: 44.1 s\n",
      "Wall time: 44.1 s\n"
     ]
    },
    {
     "data": {
      "text/html": [
       "<div>\n",
       "<style scoped>\n",
       "    .dataframe tbody tr th:only-of-type {\n",
       "        vertical-align: middle;\n",
       "    }\n",
       "\n",
       "    .dataframe tbody tr th {\n",
       "        vertical-align: top;\n",
       "    }\n",
       "\n",
       "    .dataframe thead th {\n",
       "        text-align: right;\n",
       "    }\n",
       "</style>\n",
       "<table border=\"1\" class=\"dataframe\">\n",
       "  <thead>\n",
       "    <tr style=\"text-align: right;\">\n",
       "      <th></th>\n",
       "      <th>id</th>\n",
       "      <th>text</th>\n",
       "      <th>lemmatized</th>\n",
       "    </tr>\n",
       "  </thead>\n",
       "  <tbody>\n",
       "    <tr>\n",
       "      <th>0</th>\n",
       "      <td>153006854</td>\n",
       "      <td>Работа посвящена разметке словаря для автомати...</td>\n",
       "      <td>работа посвятить разметка словарь автоматическ...</td>\n",
       "    </tr>\n",
       "  </tbody>\n",
       "</table>\n",
       "</div>"
      ],
      "text/plain": [
       "          id                                               text  \\\n",
       "0  153006854  Работа посвящена разметке словаря для автомати...   \n",
       "\n",
       "                                          lemmatized  \n",
       "0  работа посвятить разметка словарь автоматическ...  "
      ]
     },
     "execution_count": 18,
     "metadata": {},
     "output_type": "execute_result"
    }
   ],
   "source": [
    "%%time\n",
    "df['lemmatized'] = df.text.apply(fast_preprocessing)\n",
    "df.head(1)"
   ]
  },
  {
   "cell_type": "code",
   "execution_count": 19,
   "id": "5485f33f",
   "metadata": {},
   "outputs": [],
   "source": [
    "db.add_lemmatization(df['id'].to_list(), df['lemmatized'].to_list())"
   ]
  },
  {
   "cell_type": "code",
   "execution_count": null,
   "id": "155f0aa4",
   "metadata": {},
   "outputs": [],
   "source": []
  }
 ],
 "metadata": {
  "kernelspec": {
   "display_name": "Python 3 (ipykernel)",
   "language": "python",
   "name": "python3"
  },
  "language_info": {
   "codemirror_mode": {
    "name": "ipython",
    "version": 3
   },
   "file_extension": ".py",
   "mimetype": "text/x-python",
   "name": "python",
   "nbconvert_exporter": "python",
   "pygments_lexer": "ipython3",
   "version": "3.11.4"
  }
 },
 "nbformat": 4,
 "nbformat_minor": 5
}
